{
 "cells": [
  {
   "cell_type": "code",
   "execution_count": 1,
   "metadata": {
    "collapsed": true
   },
   "outputs": [],
   "source": [
    "import pandas as pd\n",
    "import numpy as np"
   ]
  },
  {
   "cell_type": "code",
   "execution_count": 46,
   "metadata": {
    "collapsed": true
   },
   "outputs": [],
   "source": [
    "X_train = pd.read_csv('./data/nba/X_train.csv')\n",
    "y_train = pd.read_csv('./data/nba/y_train.csv')\n",
    "\n",
    "X_test = pd.read_csv('./data/nba/X_test.csv')"
   ]
  },
  {
   "cell_type": "code",
   "execution_count": 47,
   "metadata": {},
   "outputs": [
    {
     "name": "stdout",
     "output_type": "stream",
     "text": [
      "(52399, 8)\n",
      "Index(['PERIOD', 'GAME_CLOCK', 'SHOT_CLOCK', 'DRIBBLES', 'TOUCH_TIME',\n",
      "       'SHOT_DIST', 'PTS_TYPE', 'CLOSE_DEF_DIST'],\n",
      "      dtype='object')\n",
      "Index(['FGM'], dtype='object')\n"
     ]
    }
   ],
   "source": [
    "print(X_train.shape)\n",
    "print(X_train.columns)\n",
    "X_train_columns = X_train.columns\n",
    "print(y_train.columns)"
   ]
  },
  {
   "cell_type": "code",
   "execution_count": 48,
   "metadata": {},
   "outputs": [
    {
     "name": "stdout",
     "output_type": "stream",
     "text": [
      "   PERIOD  GAME_CLOCK  SHOT_CLOCK  DRIBBLES  TOUCH_TIME  SHOT_DIST  PTS_TYPE  \\\n",
      "0       2         557        15.5         0         0.7        2.1         2   \n",
      "1       2         151        20.1         0         0.8        2.7         2   \n",
      "2       3         448        14.2         0         0.8        5.1         2   \n",
      "3       1         279        10.6         0         0.6        1.9         2   \n",
      "\n",
      "   CLOSE_DEF_DIST  \n",
      "0             0.0  \n",
      "1             3.4  \n",
      "2             0.1  \n",
      "3             2.7  \n",
      "   FGM\n",
      "0    1\n",
      "1    1\n",
      "2    0\n",
      "3    1\n"
     ]
    }
   ],
   "source": [
    "print(X_train[:4])\n",
    "print(y_train[:4])"
   ]
  },
  {
   "cell_type": "code",
   "execution_count": 49,
   "metadata": {
    "collapsed": true
   },
   "outputs": [],
   "source": [
    "def pd2np(df):\n",
    "    return df.as_matrix()"
   ]
  },
  {
   "cell_type": "code",
   "execution_count": 50,
   "metadata": {
    "collapsed": true
   },
   "outputs": [],
   "source": [
    "# 'SHOT_CLOCK', 'SHOT_DIST', 'CLOSE_DEF_DIST'\n",
    "#  ['SHOT_CLOCK', 'TOUCH_TIME', 'SHOT_DIST', 'CLOSE_DEF_DIST']\n",
    "# X_train = pd2np(X_train.drop(['GAME_CLOCK', 'TOUCH_TIME',\n",
    "#        'SHOT_DIST', 'PTS_TYPE', 'CLOSE_DEF_DIST'], axis=1))\n",
    "X_train = pd2np(X_train.drop(['PERIOD', 'GAME_CLOCK', 'DRIBBLES', 'TOUCH_TIME', 'PTS_TYPE'], axis=1))\n",
    "# X_train = pd2np(X_train)\n",
    "y_train = pd2np(y_train)\n",
    "\n",
    "X_test = pd2np(X_test.drop(['PERIOD', 'GAME_CLOCK', 'DRIBBLES', 'TOUCH_TIME', 'PTS_TYPE'], axis=1))\n",
    "# X_test = pd2np(X_test.drop(['PERIOD', 'GAME_CLOCK','DRIBBLES','PTS_TYPE'], axis=1))\n",
    "# X_test = pd2np(X_test)"
   ]
  },
  {
   "cell_type": "code",
   "execution_count": 51,
   "metadata": {},
   "outputs": [
    {
     "name": "stdout",
     "output_type": "stream",
     "text": [
      "<class 'numpy.ndarray'>\n",
      "(52399, 3)\n"
     ]
    }
   ],
   "source": [
    "print(type(X_train))\n",
    "print(X_train.shape)"
   ]
  },
  {
   "cell_type": "code",
   "execution_count": 52,
   "metadata": {
    "collapsed": true
   },
   "outputs": [],
   "source": [
    "from sklearn.linear_model import Lasso\n",
    "from sklearn.metrics import mean_squared_error\n",
    "from sklearn.linear_model import Ridge\n",
    "from pylab import *\n",
    "from sklearn.model_selection import train_test_split\n",
    "from sklearn.preprocessing import StandardScaler\n",
    "from sklearn.preprocessing import PolynomialFeatures\n",
    "from sklearn.linear_model import LinearRegression\n",
    "from sklearn.metrics import r2_score"
   ]
  },
  {
   "cell_type": "code",
   "execution_count": 53,
   "metadata": {
    "collapsed": true
   },
   "outputs": [],
   "source": [
    "sc = StandardScaler()\n",
    "sc.fit(X_train)\n",
    "X_train_std = sc.transform(X_train)\n",
    "X_test_std = sc.transform(X_test)"
   ]
  },
  {
   "cell_type": "code",
   "execution_count": 54,
   "metadata": {},
   "outputs": [
    {
     "name": "stdout",
     "output_type": "stream",
     "text": [
      "\n",
      "[Alpha = 0.00]\n",
      "MSE train: 0.23, test: 0.24\n",
      "\n",
      "[Alpha = 0.01]\n",
      "MSE train: 0.24, test: 0.24\n",
      "\n",
      "[Alpha = 0.10]\n",
      "MSE train: 0.25, test: 0.25\n",
      "\n",
      "[Alpha = 1.00]\n",
      "MSE train: 0.25, test: 0.25\n",
      "\n",
      "[Alpha = 10.00]\n",
      "MSE train: 0.25, test: 0.25\n"
     ]
    }
   ],
   "source": [
    " XX_train, X_valid, yy_train, y_valid = train_test_split(\n",
    "    X_train_std, y_train, test_size=0.3, random_state=2)\n",
    "for a in [0.001, 0.01, 0.1, 1, 10]:\n",
    "    lr_lasso = Lasso(alpha=a)\n",
    "    lr_lasso.fit(XX_train, yy_train)\n",
    "\n",
    "    y_train_pred = lr_lasso.predict(XX_train)\n",
    "    y_test_pred = lr_lasso.predict(X_valid)\n",
    "\n",
    "    print('\\n[Alpha = %.2f]' % a )\n",
    "    print('MSE train: %.2f, test: %.2f' % (\n",
    "                    mean_squared_error(yy_train, y_train_pred),\n",
    "                    mean_squared_error(y_valid, y_test_pred),))                                          "
   ]
  },
  {
   "cell_type": "code",
   "execution_count": 55,
   "metadata": {},
   "outputs": [
    {
     "data": {
      "image/png": "[encoded data removed]",
      "text/plain": [
       "<matplotlib.figure.Figure at 0x7f008321c4e0>"
      ]
     },
     "metadata": {},
     "output_type": "display_data"
    },
    {
     "name": "stdout",
     "output_type": "stream",
     "text": [
      "Selected attributes: Index(['PERIOD', 'GAME_CLOCK', 'SHOT_CLOCK'], dtype='object')\n"
     ]
    }
   ],
   "source": [
    "var_num = X_train_std.shape[1]\n",
    "\n",
    "lr_lasso = Lasso(alpha = 0.01)\n",
    "lr_lasso.fit(X_train_std, y_train)\n",
    "lr_ridge = Ridge(alpha = 0.1)\n",
    "lr_ridge.fit(X_train_std, y_train)\n",
    "\n",
    "plt.scatter(range(var_num),lr_lasso.coef_, label = 'LASSO', color = 'blue')\n",
    "plt.scatter(range(var_num),lr_ridge.coef_, label = 'Ridge', color = 'green')\n",
    "plt.hlines(y=0, xmin=0, xmax=var_num-1, color='red', linestyle ='--')\n",
    "plt.xlim(0,var_num-1)\n",
    "plt.legend(loc = 'upper right')\n",
    "plt.xlabel('Coefficients index')\n",
    "plt.ylabel('Coefficients')\n",
    "plt.tight_layout()\n",
    "plt.show()\n",
    "\n",
    "epsilon = 2e-2\n",
    "idxs = np.where(abs(lr_lasso.coef_) > epsilon)\n",
    "print('Selected attributes: {}'.format(X_train_columns[idxs]))"
   ]
  },
  {
   "cell_type": "code",
   "execution_count": 56,
   "metadata": {
    "collapsed": true
   },
   "outputs": [],
   "source": [
    "from sklearn.linear_model import Perceptron\n",
    "from sklearn.metrics import accuracy_score\n",
    "from sklearn.ensemble import RandomForestClassifier\n",
    "from sklearn.tree import DecisionTreeClassifier"
   ]
  },
  {
   "cell_type": "code",
   "execution_count": 57,
   "metadata": {},
   "outputs": [
    {
     "name": "stderr",
     "output_type": "stream",
     "text": [
      "/opt/anaconda3/lib/python3.6/site-packages/sklearn/utils/validation.py:578: DataConversionWarning: A column-vector y was passed when a 1d array was expected. Please change the shape of y to (n_samples, ), for example using ravel().\n",
      "  y = column_or_1d(y, warn=True)\n"
     ]
    },
    {
     "name": "stdout",
     "output_type": "stream",
     "text": [
      "Perceptron Misclassified samples: 6027\n",
      "Perceptron Accuracy: 0.61660\n"
     ]
    },
    {
     "name": "stderr",
     "output_type": "stream",
     "text": [
      "/opt/anaconda3/lib/python3.6/site-packages/ipykernel_launcher.py:9: DataConversionWarning: A column-vector y was passed when a 1d array was expected. Please change the shape of y to (n_samples,), for example using ravel().\n",
      "  if __name__ == '__main__':\n"
     ]
    },
    {
     "name": "stdout",
     "output_type": "stream",
     "text": [
      "RandomForestClassifier Misclassified samples: 6010\n",
      "RandomForestClassifier Accuracy: 0.61768\n",
      "DecisionTreeClassifier Misclassified samples: 6063\n",
      "DecisionTreeClassifier Accuracy: 0.61431\n",
      "Final Misclassified samples: 5999\n",
      "Final Accuracy: 0.61838\n"
     ]
    }
   ],
   "source": [
    "ppn = Perceptron(max_iter=1000, eta0=1e-3, shuffle = True,random_state=6)\n",
    "ppn.fit(XX_train, yy_train)\n",
    "y_pred = ppn.predict(X_valid)\n",
    "y_pred = np.reshape(y_pred,(y_pred.shape[0],1))\n",
    "print('Perceptron Misclassified samples: %d' % (y_valid != y_pred).sum())\n",
    "print('Perceptron Accuracy: %.5f' % accuracy_score(y_valid, y_pred))\n",
    "\n",
    "clf = RandomForestClassifier(n_estimators=100,max_depth=7,random_state=2,n_jobs=2)\n",
    "clf.fit(XX_train, yy_train)\n",
    "y_pred1 = clf.predict(X_valid)\n",
    "y_pred1 = np.reshape(y_pred1,(y_pred1.shape[0],1))\n",
    "print('RandomForestClassifier Misclassified samples: %d' % (y_valid != y_pred1).sum())\n",
    "print('RandomForestClassifier Accuracy: %.5f' % accuracy_score(y_valid, y_pred1))\n",
    "\n",
    "tree = DecisionTreeClassifier(criterion='entropy', max_depth=5, random_state=1)\n",
    "tree.fit(XX_train, yy_train)\n",
    "y_pred2 = tree.predict(X_valid)\n",
    "y_pred2 = np.reshape(y_pred2,(y_pred2.shape[0],1))\n",
    "print('DecisionTreeClassifier Misclassified samples: %d' % (y_valid != y_pred2).sum())\n",
    "print('DecisionTreeClassifier Accuracy: %.5f' % accuracy_score(y_valid, y_pred2))\n",
    "for i in range(y_valid.shape[0]):\n",
    "    if not y_pred[i][0] == y_pred1[i][0] == y_pred2[i][0] :\n",
    "        if (y_pred[i][0] + y_pred1[i][0] + y_pred2[i][0])/2 < 1:\n",
    "            y_pred[i][0] = 0\n",
    "        else:\n",
    "            y_pred[i][0] = 1 \n",
    "print('Final Misclassified samples: %d' % (y_valid != y_pred).sum())\n",
    "print('Final Accuracy: %.5f' % accuracy_score(y_valid, y_pred))"
   ]
  },
  {
   "cell_type": "code",
   "execution_count": 58,
   "metadata": {
    "collapsed": true
   },
   "outputs": [],
   "source": [
    "y_pred = ppn.predict(X_test_std)\n",
    "y_pred = np.reshape(y_pred,(y_pred.shape[0],1))\n",
    "\n",
    "y_pred1 = clf.predict(X_test_std)\n",
    "y_pred1 = np.reshape(y_pred1,(y_pred1.shape[0],1))\n",
    "\n",
    "y_pred2 = tree.predict(X_test_std)\n",
    "y_pred2 = np.reshape(y_pred2,(y_pred2.shape[0],1))\n",
    "for i in range(X_test_std.shape[0]):\n",
    "    if not y_pred[i][0] == y_pred1[i][0] == y_pred2[i][0] :\n",
    "        if (y_pred[i][0] + y_pred1[i][0] + y_pred2[i][0])/2 < 1:\n",
    "            y_pred[i][0] = 0\n",
    "        else:\n",
    "            y_pred[i][0] = 1 "
   ]
  },
  {
   "cell_type": "code",
   "execution_count": null,
   "metadata": {
    "collapsed": true
   },
   "outputs": [],
   "source": [
    "from sklearn.learning_curve import learning_curve\n",
    "# poly = PolynomialFeatures(degree=d)\n",
    "# X = poly.fit_transform(x[:,np.newaxis])\n",
    "\n",
    "# lr = LinearRegression()\n",
    "# c, r = XX_train.shape\n",
    "# X = XX_train.reshape(c,)\n",
    "c, r = y_train.shape\n",
    "y_train = y_train.reshape(c,)"
   ]
  },
  {
   "cell_type": "code",
   "execution_count": 103,
   "metadata": {
    "collapsed": true
   },
   "outputs": [],
   "source": [
    "# d = {'col1': [1, 2], 'col2': [3, 4]}\n",
    "d = {}\n",
    "for i in range(X_test_std.shape[0]):\n",
    "    d[i] = y_pred[i][0]"
   ]
  },
  {
   "cell_type": "code",
   "execution_count": 104,
   "metadata": {
    "collapsed": true
   },
   "outputs": [],
   "source": [
    "df = pd.DataFrame(data=d, index=['FGM'])"
   ]
  },
  {
   "cell_type": "code",
   "execution_count": 105,
   "metadata": {},
   "outputs": [
    {
     "data": {
      "text/html": [
       "<div>\n",
       "<style>\n",
       "    .dataframe thead tr:only-child th {\n",
       "        text-align: right;\n",
       "    }\n",
       "\n",
       "    .dataframe thead th {\n",
       "        text-align: left;\n",
       "    }\n",
       "\n",
       "    .dataframe tbody tr th {\n",
       "        vertical-align: top;\n",
       "    }\n",
       "</style>\n",
       "<table border=\"1\" class=\"dataframe\">\n",
       "  <thead>\n",
       "    <tr style=\"text-align: right;\">\n",
       "      <th></th>\n",
       "      <th>0</th>\n",
       "      <th>1</th>\n",
       "      <th>2</th>\n",
       "      <th>3</th>\n",
       "      <th>4</th>\n",
       "      <th>5</th>\n",
       "      <th>6</th>\n",
       "      <th>7</th>\n",
       "      <th>8</th>\n",
       "      <th>9</th>\n",
       "      <th>...</th>\n",
       "      <th>13090</th>\n",
       "      <th>13091</th>\n",
       "      <th>13092</th>\n",
       "      <th>13093</th>\n",
       "      <th>13094</th>\n",
       "      <th>13095</th>\n",
       "      <th>13096</th>\n",
       "      <th>13097</th>\n",
       "      <th>13098</th>\n",
       "      <th>13099</th>\n",
       "    </tr>\n",
       "  </thead>\n",
       "  <tbody>\n",
       "    <tr>\n",
       "      <th>FGM</th>\n",
       "      <td>0</td>\n",
       "      <td>0</td>\n",
       "      <td>0</td>\n",
       "      <td>0</td>\n",
       "      <td>1</td>\n",
       "      <td>1</td>\n",
       "      <td>0</td>\n",
       "      <td>0</td>\n",
       "      <td>0</td>\n",
       "      <td>0</td>\n",
       "      <td>...</td>\n",
       "      <td>0</td>\n",
       "      <td>1</td>\n",
       "      <td>0</td>\n",
       "      <td>0</td>\n",
       "      <td>0</td>\n",
       "      <td>0</td>\n",
       "      <td>0</td>\n",
       "      <td>0</td>\n",
       "      <td>0</td>\n",
       "      <td>0</td>\n",
       "    </tr>\n",
       "  </tbody>\n",
       "</table>\n",
       "<p>1 rows × 13100 columns</p>\n",
       "</div>"
      ],
      "text/plain": [
       "     0      1      2      3      4      5      6      7      8      9      \\\n",
       "FGM      0      0      0      0      1      1      0      0      0      0   \n",
       "\n",
       "     ...    13090  13091  13092  13093  13094  13095  13096  13097  13098  \\\n",
       "FGM  ...        0      1      0      0      0      0      0      0      0   \n",
       "\n",
       "     13099  \n",
       "FGM      0  \n",
       "\n",
       "[1 rows x 13100 columns]"
      ]
     },
     "execution_count": 105,
     "metadata": {},
     "output_type": "execute_result"
    }
   ],
   "source": [
    "df"
   ]
  },
  {
   "cell_type": "code",
   "execution_count": 222,
   "metadata": {
    "collapsed": true
   },
   "outputs": [],
   "source": [
    "df.to_csv('y_pred.csv')"
   ]
  },
  {
   "cell_type": "markdown",
   "metadata": {
    "collapsed": true
   },
   "source": [
    "1 How you evaluate your model\n",
    "A1: the higher accuracy_score the better model\n",
    "2 All models you have tried and the result\n",
    "A2: Perceptron : I tried different random_states and the results varies a lot. So, I ran an experiment \n",
    "        to find better result from random_state 1 to 300 and all results' accuracy range is between 0.4 to 0.61\n",
    "    RandomForestClassifier : I tried different degree and random_state. Different degrees varies but when it achieves\n",
    "        higher degree, the accuracy merely improves slightly. Different random_state varies slightly different so I just\n",
    "        picked one slightly better. The accuracies' range of different degree is between 0.61 to 0.62\n",
    "    DecisionTreeClassifier : I tried different degree and random_state. Different degrees varies but when it achieves\n",
    "        higher degree, the accuracy merely improves slightly. Using different random_states does't make much difference \n",
    "        in accuracy. The accuracies' range of different degree is between 0.61 to 0.62\n",
    "3 Plot the learning curve of your best model and tell if it is over-fit or not\n",
    "A3: the curves are below and they seems not over-fit\n",
    "4 The top-3 features you find and how you find it\n",
    "A4:\n",
    "    I find a better alpha to train lasso and then I train a lasso model to get its coefficients. \n",
    "    According to the coefficients, we can get top-3 features.\n",
    "5 A brief report what you do in this assignment\n",
    "A5: training step\n",
    "    step1 --> train the best Perceptron by tuning random_state, RandomForestClassifier by tuning degree and \n",
    "    random_state and DecisionTreeClassifier by tuning degree\n",
    "    step2 --> use these three classifiers to vote for the final prediction"
   ]
  },
  {
   "cell_type": "code",
   "execution_count": 71,
   "metadata": {
    "collapsed": true
   },
   "outputs": [],
   "source": [
    "def mse(model, X, y):\n",
    "    return accuracy_score(y, model.predict(X))\n",
    "#     return (y != model.predict(X)).sum()\n",
    "#     return ((model.predict(X) - y)**2).mean()"
   ]
  },
  {
   "cell_type": "code",
   "execution_count": 99,
   "metadata": {},
   "outputs": [
    {
     "data": {
      "image/png": "[encoded data removed]",
      "text/plain": [
       "<matplotlib.figure.Figure at 0x7f0077469160>"
      ]
     },
     "metadata": {},
     "output_type": "display_data"
    }
   ],
   "source": [
    "train_sizes, train_scores, test_scores = learning_curve(estimator=ppn, X=X_train_std, y=y_train, scoring=mse)\n",
    "\n",
    "train_mean = np.mean(train_scores, axis=1)\n",
    "train_std = np.std(train_scores, axis=1)\n",
    "test_mean = np.mean(test_scores, axis=1)\n",
    "test_std = np.std(test_scores, axis=1)\n",
    "\n",
    "plt.plot(train_sizes, train_mean,\n",
    "    color='blue', marker='o',\n",
    "    markersize=2,\n",
    "    label='Training error')\n",
    "plt.fill_between(train_sizes,\n",
    "    train_mean+train_std,\n",
    "    train_mean-train_std,\n",
    "    alpha=0.15, color='blue')\n",
    "\n",
    "plt.plot(train_sizes, test_mean,\n",
    "    color='green', linestyle='--',\n",
    "    marker='s', markersize=2,\n",
    "    label='Testing error')\n",
    "plt.fill_between(train_sizes,\n",
    "    test_mean+test_std,\n",
    "    test_mean-test_std,\n",
    "    alpha=0.15, color='green')\n",
    "\n",
    "plt.hlines(y=0.525 ,xmin=0, xmax=35000, color='red', linewidth=2, linestyle='--')\n",
    "plt.title('Perceptron')\n",
    "plt.grid()\n",
    "plt.xlabel('Number of training samples')\n",
    "plt.ylabel('accuracy')\n",
    "plt.legend(loc='upper right')\n",
    "plt.ylim([0.48, 0.6])\n",
    "plt.tight_layout()\n",
    "# plt.savefig('./output/fig-learning-curve-%d.png' % d, dpi=300)\n",
    "plt.show()"
   ]
  },
  {
   "cell_type": "code",
   "execution_count": 96,
   "metadata": {},
   "outputs": [
    {
     "data": {
      "image/png": "[encoded data removed]",
      "text/plain": [
       "<matplotlib.figure.Figure at 0x7f0077d3e048>"
      ]
     },
     "metadata": {},
     "output_type": "display_data"
    }
   ],
   "source": [
    "train_sizes, train_scores, test_scores = learning_curve(estimator=clf, X=X_train_std, y=y_train, scoring=mse)\n",
    "\n",
    "train_mean = np.mean(train_scores, axis=1)\n",
    "train_std = np.std(train_scores, axis=1)\n",
    "test_mean = np.mean(test_scores, axis=1)\n",
    "test_std = np.std(test_scores, axis=1)\n",
    "\n",
    "plt.plot(train_sizes, train_mean,\n",
    "    color='blue', marker='o',\n",
    "    markersize=2,\n",
    "    label='Training error')\n",
    "plt.fill_between(train_sizes,\n",
    "    train_mean+train_std,\n",
    "    train_mean-train_std,\n",
    "    alpha=0.15, color='blue')\n",
    "\n",
    "plt.plot(train_sizes, test_mean,\n",
    "    color='green', linestyle='--',\n",
    "    marker='s', markersize=2,\n",
    "    label='Testing error')\n",
    "plt.fill_between(train_sizes,\n",
    "    test_mean+test_std,\n",
    "    test_mean-test_std,\n",
    "    alpha=0.15, color='green')\n",
    "\n",
    "plt.hlines(y=0.625, xmin=0, xmax=35000, color='red', linewidth=2, linestyle='--')\n",
    "plt.title('RandomForestClassifier')\n",
    "plt.grid()\n",
    "plt.xlabel('Number of training samples')\n",
    "plt.ylabel('accuracy')\n",
    "plt.legend(loc='upper right')\n",
    "plt.ylim([0.5, 0.7])\n",
    "plt.tight_layout()\n",
    "# plt.savefig('./output/fig-learning-curve-%d.png' % d, dpi=300)\n",
    "plt.show()"
   ]
  },
  {
   "cell_type": "code",
   "execution_count": 97,
   "metadata": {},
   "outputs": [
    {
     "data": {
      "image/png": "[encoded data removed]",
      "text/plain": [
       "<matplotlib.figure.Figure at 0x7f00775f9eb8>"
      ]
     },
     "metadata": {},
     "output_type": "display_data"
    }
   ],
   "source": [
    "train_sizes, train_scores, test_scores = learning_curve(estimator=tree, X=X_train_std, y=y_train, scoring=mse)\n",
    "\n",
    "train_mean = np.mean(train_scores, axis=1)\n",
    "train_std = np.std(train_scores, axis=1)\n",
    "test_mean = np.mean(test_scores, axis=1)\n",
    "test_std = np.std(test_scores, axis=1)\n",
    "\n",
    "plt.plot(train_sizes, train_mean,\n",
    "    color='blue', marker='o',\n",
    "    markersize=2,\n",
    "    label='Training error')\n",
    "plt.fill_between(train_sizes,\n",
    "    train_mean+train_std,\n",
    "    train_mean-train_std,\n",
    "    alpha=0.15, color='blue')\n",
    "\n",
    "plt.plot(train_sizes, test_mean,\n",
    "    color='green', linestyle='--',\n",
    "    marker='s', markersize=2,\n",
    "    label='Testing error')\n",
    "plt.fill_between(train_sizes,\n",
    "    test_mean+test_std,\n",
    "    test_mean-test_std,\n",
    "    alpha=0.15, color='green')\n",
    "\n",
    "plt.hlines(y=0.615, xmin=0, xmax=35000, color='red', linewidth=2, linestyle='--')\n",
    "plt.title('DecisionTreeClassifier')\n",
    "plt.grid()\n",
    "plt.xlabel('Number of training samples')\n",
    "plt.ylabel('accuracy')\n",
    "plt.legend(loc='lower right')\n",
    "plt.ylim([0.5, 0.7])\n",
    "plt.tight_layout()\n",
    "# plt.savefig('./output/fig-learning-curve-%d.png' % d, dpi=300)\n",
    "plt.show()"
   ]
  },
  {
   "cell_type": "code",
   "execution_count": null,
   "metadata": {
    "collapsed": true
   },
   "outputs": [],
   "source": []
  }
 ],
 "metadata": {
  "kernelspec": {
   "display_name": "Python 3",
   "language": "python",
   "name": "python3"
  },
  "language_info": {
   "codemirror_mode": {
    "name": "ipython",
    "version": 3
   },
   "file_extension": ".py",
   "mimetype": "text/x-python",
   "name": "python",
   "nbconvert_exporter": "python",
   "pygments_lexer": "ipython3",
   "version": "3.6.3"
  }
 },
 "nbformat": 4,
 "nbformat_minor": 2
}
