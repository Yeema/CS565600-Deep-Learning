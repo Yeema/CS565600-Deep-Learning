{
 "cells": [
  {
   "cell_type": "code",
   "execution_count": 5,
   "metadata": {},
   "outputs": [],
   "source": [
    "import numpy as np\n",
    "import tensorflow as tf\n",
    "import matplotlib.pyplot as plt"
   ]
  },
  {
   "cell_type": "code",
   "execution_count": 3,
   "metadata": {},
   "outputs": [],
   "source": [
    "# xor task\n",
    "xor_data = np.array([[1, 0],\n",
    "                    [0, 1],\n",
    "                    [1, 1],\n",
    "                    [0, 0]])\n",
    "xor_label = np.array([[1], [1], [0], [0]])"
   ]
  },
  {
   "cell_type": "code",
   "execution_count": 37,
   "metadata": {},
   "outputs": [
    {
     "name": "stdout",
     "output_type": "stream",
     "text": [
      "Epoch  19999\n",
      "Hypothesis  [[0.85836625]\n",
      " [0.8545869 ]\n",
      " [0.17017888]\n",
      " [0.10559744]]\n",
      "Theta1  [[ 0.14300452  0.7830573   3.7792304   0.21455818  0.16214927  2.144812\n",
      "   0.18659179 -0.03180014  1.1321781  -1.0074774  -0.157866   -0.2630893\n",
      "  -0.7917679   0.8725356   1.5414064   0.14288256 -0.18899837 -0.49919847\n",
      "  -0.45449406  0.5581853  -1.7585096   2.7437491  -0.5511488   0.10902152\n",
      "  -2.753455    0.30134913 -0.4575635  -0.0364867  -0.94139856 -1.5982351 ]\n",
      " [ 0.7135928   0.15387589 -2.9494364  -0.3424827  -0.75019926  2.2385962\n",
      "  -0.11019188 -0.25981072 -0.34282792 -0.03722726  0.5549921   0.6134684\n",
      "   0.40972045  0.16483898 -0.6502068  -0.20751597  0.4792363  -0.678674\n",
      "  -0.7251267  -0.5996201  -1.894942    2.688422   -0.21433839 -0.5128222\n",
      "   3.6089613  -0.84492713 -0.12132396 -0.31417677  0.42025536  2.450662  ]]\n",
      "Bias1  [-0.24817428  0.08220017  1.5750337  -0.04076822 -0.03829433  0.0695172\n",
      "  0.03043243  0.05665643  0.19583584  0.19161753  0.10425753 -0.00969029\n",
      " -0.3269017  -0.2614341   0.40185115 -0.03653141  0.05684634  0.1428674\n",
      " -0.14234155 -0.28108552 -0.2710707  -0.28033438  0.23433289 -0.06392456\n",
      "  1.4940597  -0.1986839   0.09486791  0.04109846 -0.3401383   0.98820555]\n",
      "Theta2  [[-0.84831494]\n",
      " [ 0.4535698 ]\n",
      " [-4.081547  ]\n",
      " [ 0.71965504]\n",
      " [ 0.5949448 ]\n",
      " [ 2.2932127 ]\n",
      " [ 0.5226558 ]\n",
      " [ 0.98318756]\n",
      " [-1.0204555 ]\n",
      " [ 0.8032397 ]\n",
      " [-0.6720009 ]\n",
      " [ 0.12182844]\n",
      " [ 1.202076  ]\n",
      " [-0.4608155 ]\n",
      " [-1.3012137 ]\n",
      " [-0.5220288 ]\n",
      " [-0.25568542]\n",
      " [ 0.37553754]\n",
      " [-0.10117509]\n",
      " [ 0.66874844]\n",
      " [-1.5864849 ]\n",
      " [ 3.27138   ]\n",
      " [ 1.2782949 ]\n",
      " [ 1.0884475 ]\n",
      " [-3.7126517 ]\n",
      " [ 0.8930129 ]\n",
      " [ 0.85095984]\n",
      " [ 0.8333804 ]\n",
      " [ 1.2117254 ]\n",
      " [-1.9754871 ]]\n",
      "Bias2  [0.3470139]\n",
      "cost  0.15200149\n",
      "accuracy:  1.0\n",
      "\n"
     ]
    }
   ],
   "source": [
    "# https://aimatters.wordpress.com/2016/01/16/solving-xor-with-a-neural-network-in-tensorflow/\n",
    "with tf.Graph().as_default() as g:\n",
    "    x_input = tf.placeholder( tf.float32 ,  [None, 2] , name='x_input' )\n",
    "    y_label = tf.placeholder( tf.float32 , [None, 1] , name='y_label' )\n",
    "    \n",
    "    # start building your model and meet the requirements\n",
    "    # from here\n",
    "    number_hidden_nodes = 30\n",
    "    Theta1 = tf.Variable(tf.random_uniform([2,number_hidden_nodes], -1, 1), name = \"Theta1\")\n",
    "    Theta2 = tf.Variable(tf.random_uniform([number_hidden_nodes,1], -1, 1), name = \"Theta2\")\n",
    "    Bias1 = tf.Variable(tf.zeros([number_hidden_nodes]), name = \"Bias1\")\n",
    "    Bias2 = tf.Variable(tf.zeros([1]), name = \"Bias2\")\n",
    "    with tf.name_scope(\"layer2\") as scope:\n",
    "        A2 = tf.sigmoid(tf.matmul(x_input, Theta1) + Bias1)\n",
    "\n",
    "    with tf.name_scope(\"layer3\") as scope:\n",
    "        Hypothesis = tf.sigmoid(tf.matmul(A2, Theta2) + Bias2)\n",
    "\n",
    "    with tf.name_scope(\"cost\") as scope:\n",
    "        cost = tf.reduce_mean(( (y_label * tf.log(Hypothesis)) + ((1 - y_label) * tf.log(1.0 - Hypothesis)) ) * -1)\n",
    "\n",
    "    with tf.name_scope(\"train\") as scope:\n",
    "        train_step = tf.train.GradientDescentOptimizer(0.01).minimize(cost)\n",
    "        \n",
    "    with tf.name_scope(\"accuracy\") as scope:\n",
    "        correct_prediction = tf.equal(y_label , tf.to_float(tf.to_int32(Hypothesis > 0.5)))# argmax along dim-1\n",
    "        accuracy = tf.reduce_mean(tf.cast(correct_prediction, \"float\")) # [True, False, True, True] -> [1,0,1,1] -> 0.75.\n",
    "        \n",
    "    var_init_op = tf.global_variables_initializer()\n",
    "        \n",
    "with tf.Session(graph=g) as sess:\n",
    "    # start run the seesion and meet the requrements\n",
    "    # from here \n",
    "    sess.run(var_init_op)\n",
    "    for i in range(20000):\n",
    "        sess.run(train_step, feed_dict={x_input: xor_data, y_label: xor_label})\n",
    "#         if i%10000==0 or i==100000-1:\n",
    "    print('Epoch ', i)\n",
    "    print('Hypothesis ', sess.run(Hypothesis, feed_dict={x_input: xor_data, y_label: xor_label}))\n",
    "    print('Theta1 ', sess.run(Theta1))\n",
    "    print('Bias1 ', sess.run(Bias1))\n",
    "    print('Theta2 ', sess.run(Theta2))\n",
    "    print('Bias2 ', sess.run(Bias2))\n",
    "    print('cost ', sess.run(cost, feed_dict={x_input: xor_data, y_label: xor_label}))\n",
    "    print('accuracy: ',sess.run(accuracy, feed_dict={x_input: xor_data, y_label: xor_label}))\n",
    "    print()"
   ]
  },
  {
   "cell_type": "code",
   "execution_count": 2,
   "metadata": {},
   "outputs": [
    {
     "name": "stdout",
     "output_type": "stream",
     "text": [
      "WARNING:tensorflow:From <ipython-input-2-e70db4c1b96c>:3: read_data_sets (from tensorflow.contrib.learn.python.learn.datasets.mnist) is deprecated and will be removed in a future version.\n",
      "Instructions for updating:\n",
      "Please use alternatives such as official/mnist/dataset.py from tensorflow/models.\n",
      "WARNING:tensorflow:From /usr/local/anaconda3/lib/python3.6/site-packages/tensorflow/contrib/learn/python/learn/datasets/mnist.py:260: maybe_download (from tensorflow.contrib.learn.python.learn.datasets.base) is deprecated and will be removed in a future version.\n",
      "Instructions for updating:\n",
      "Please write your own downloading logic.\n",
      "WARNING:tensorflow:From /usr/local/anaconda3/lib/python3.6/site-packages/tensorflow/contrib/learn/python/learn/datasets/mnist.py:262: extract_images (from tensorflow.contrib.learn.python.learn.datasets.mnist) is deprecated and will be removed in a future version.\n",
      "Instructions for updating:\n",
      "Please use tf.data to implement this functionality.\n",
      "Extracting data/mnist/train-images-idx3-ubyte.gz\n",
      "WARNING:tensorflow:From /usr/local/anaconda3/lib/python3.6/site-packages/tensorflow/contrib/learn/python/learn/datasets/mnist.py:267: extract_labels (from tensorflow.contrib.learn.python.learn.datasets.mnist) is deprecated and will be removed in a future version.\n",
      "Instructions for updating:\n",
      "Please use tf.data to implement this functionality.\n",
      "Extracting data/mnist/train-labels-idx1-ubyte.gz\n",
      "WARNING:tensorflow:From /usr/local/anaconda3/lib/python3.6/site-packages/tensorflow/contrib/learn/python/learn/datasets/mnist.py:110: dense_to_one_hot (from tensorflow.contrib.learn.python.learn.datasets.mnist) is deprecated and will be removed in a future version.\n",
      "Instructions for updating:\n",
      "Please use tf.one_hot on tensors.\n",
      "Extracting data/mnist/t10k-images-idx3-ubyte.gz\n",
      "WARNING:tensorflow:From /usr/local/anaconda3/lib/python3.6/site-packages/tensorflow/contrib/learn/python/learn/datasets/base.py:252: _internal_retry.<locals>.wrap.<locals>.wrapped_fn (from tensorflow.contrib.learn.python.learn.datasets.base) is deprecated and will be removed in a future version.\n",
      "Instructions for updating:\n",
      "Please use urllib or similar directly.\n",
      "Successfully downloaded t10k-labels-idx1-ubyte.gz 4542 bytes.\n",
      "Extracting data/mnist/t10k-labels-idx1-ubyte.gz\n",
      "WARNING:tensorflow:From /usr/local/anaconda3/lib/python3.6/site-packages/tensorflow/contrib/learn/python/learn/datasets/mnist.py:290: DataSet.__init__ (from tensorflow.contrib.learn.python.learn.datasets.mnist) is deprecated and will be removed in a future version.\n",
      "Instructions for updating:\n",
      "Please use alternatives such as official/mnist/dataset.py from tensorflow/models.\n"
     ]
    }
   ],
   "source": [
    "from tensorflow.examples.tutorials.mnist import input_data\n",
    "# load mnist data\n",
    "mnist = input_data.read_data_sets(\"data/mnist\", one_hot=True)"
   ]
  },
  {
   "cell_type": "code",
   "execution_count": 3,
   "metadata": {},
   "outputs": [
    {
     "name": "stdout",
     "output_type": "stream",
     "text": [
      "training data size: 55000\n",
      "validation data size: 5000\n",
      "testing data size: 10000\n",
      "Shape of image: (784,)\n",
      "Shape of label: (10,)\n"
     ]
    }
   ],
   "source": [
    "print(\"training data size: {}\".format(mnist.train.num_examples))\n",
    "print(\"validation data size: {}\".format(mnist.validation.num_examples))\n",
    "print(\"testing data size: {}\".format(mnist.test.num_examples))\n",
    "\n",
    "print(\"Shape of image: {}\".format(mnist.train.images[0].shape))\n",
    "print(\"Shape of label: {}\".format(mnist.train.labels[0].shape))"
   ]
  },
  {
   "cell_type": "code",
   "execution_count": 6,
   "metadata": {},
   "outputs": [
    {
     "data": {
      "image/png": "[encoded data removed]",
      "text/plain": [
       "<Figure size 1296x1296 with 5 Axes>"
      ]
     },
     "metadata": {},
     "output_type": "display_data"
    }
   ],
   "source": [
    "n = 5\n",
    "plt.figure(figsize=(18,18))\n",
    "for i in range(5):\n",
    "    plt.subplot(n, n, i+1)\n",
    "    plt.imshow(mnist.train.images[i].reshape(28,28), cmap='gray')\n",
    "    plt.title(np.argmax(mnist.train.labels[i]))\n",
    "    plt.xticks([])\n",
    "    plt.yticks([])\n",
    "plt.show()"
   ]
  },
  {
   "cell_type": "code",
   "execution_count": 27,
   "metadata": {},
   "outputs": [
    {
     "name": "stdout",
     "output_type": "stream",
     "text": [
      "WARNING:tensorflow:From <ipython-input-27-d4dd088a009c>:40: softmax_cross_entropy_with_logits (from tensorflow.python.ops.nn_ops) is deprecated and will be removed in a future version.\n",
      "Instructions for updating:\n",
      "\n",
      "Future major versions of TensorFlow will allow gradients to flow\n",
      "into the labels input on backprop by default.\n",
      "\n",
      "See `tf.nn.softmax_cross_entropy_with_logits_v2`.\n",
      "\n",
      "test accuracy:  0.9504\n",
      "test iteration:  8426\n"
     ]
    }
   ],
   "source": [
    "with tf.Graph().as_default() as g:\n",
    "    ## meet the requirements\n",
    "    ## then you will\n",
    "    # setting \n",
    "    feature_dims = 784 # example with 784 features\n",
    "    neurons = 2000 # fully connected layer with 1024 neurons\n",
    "    classes = 10 # 10 classes classification problem\n",
    "    x_input = tf.placeholder( tf.float32 ,  [None, feature_dims] , name='x_input' )\n",
    "    y_label = tf.placeholder( tf.float32 , [None, classes] , name='y_label' )\n",
    "    p_keep_input = tf.placeholder(tf.float32)\n",
    "    p_keep_hidden = tf.placeholder(tf.float32)\n",
    "    number_hidden_nodes1 = 1024\n",
    "    number_hidden_nodes2 = 625\n",
    "    Theta1 = tf.Variable(tf.random_uniform([feature_dims , number_hidden_nodes1], -1, 1), name = \"Theta1\")\n",
    "    Theta2 = tf.Variable(tf.random_uniform([number_hidden_nodes1 , number_hidden_nodes2], -1, 1), name = \"Theta2\")\n",
    "    Theta3 = tf.Variable(tf.random_uniform([number_hidden_nodes2,classes], -1, 1), name = \"Theta3\")\n",
    "#     Bias1 = tf.Variable(tf.zeros([number_hidden_nodes]), name = \"Bias1\")\n",
    "#     Bias2 = tf.Variable(tf.zeros([number_hidden_nodes1]), name = \"Bias2\")\n",
    "#     Bias3 = tf.Variable(tf.zeros([classes]), name = \"Bias3\")\n",
    "    \n",
    "    def fully_connected_layer(x_inputs, weights,name='fc'):\n",
    "        with tf.variable_scope(name, reuse=tf.AUTO_REUSE):\n",
    "            out = tf.nn.relu(tf.matmul(x_inputs, weights))\n",
    "            return out\n",
    "    with tf.name_scope(\"layer2\") as scope:\n",
    "        x_input = tf.nn.dropout(x_input, p_keep_input)\n",
    "        A2 = fully_connected_layer(x_input,Theta1)\n",
    "        A2 = tf.nn.dropout(A2, p_keep_hidden)\n",
    "    \n",
    "    with tf.name_scope(\"layer3\") as scope:\n",
    "        A3 = fully_connected_layer(A2,Theta2)\n",
    "        A3 = tf.nn.dropout(A3, p_keep_hidden)\n",
    "\n",
    "    with tf.name_scope(\"layer4\") as scope:\n",
    "        Hypothesis = tf.matmul(A3, Theta3)\n",
    "\n",
    "    with tf.name_scope(\"cost\") as scope:\n",
    "#         cross_entropy = tf.reduce_mean(-tf.reduce_sum(y_ * tf.log(y), reduction_indices=[1])) ; y_label Hypothesis\n",
    "#         cost = tf.reduce_mean(-tf.reduce_sum(y_label * tf.clip_by_value(Hypothesis, 1e-10, 1.0), reduction_indices=[1]))\n",
    "        cost = tf.reduce_mean(tf.nn.softmax_cross_entropy_with_logits(logits=Hypothesis, labels=y_label))\n",
    "\n",
    "    with tf.name_scope(\"train\") as scope:\n",
    "#         train_step = tf.train.GradientDescentOptimizer(0.01).minimize(cost)\n",
    "          train_step = tf.train.RMSPropOptimizer(0.001, 0.9).minimize(cost)\n",
    "#         train_step = tf.train.MomentumOptimizer(learning_rate=0.1, momentum=0.9).minimize(cost)\n",
    "        \n",
    "    with tf.name_scope(\"accuracy\") as scope:\n",
    "        correct_prediction = tf.equal(tf.argmax(y_label, 1), tf.argmax(Hypothesis, 1))\n",
    "        accuracy = tf.reduce_mean(tf.cast(correct_prediction, tf.float32))\n",
    "        \n",
    "    var_init_op = tf.global_variables_initializer()\n",
    "    \n",
    "with tf.Session(graph=g) as sess:\n",
    "    ## just do it\n",
    "    sess.run(var_init_op)\n",
    "    batch_size = 100\n",
    "    keep_input = 0.8\n",
    "    keep_hidden = 0.75\n",
    "    num_data = mnist.train.num_examples + mnist.validation.num_examples\n",
    "    for i in range(30000):\n",
    "        input_images, correct_predictions = mnist.train.next_batch(batch_size)\n",
    "        test_acc = sess.run(accuracy, feed_dict={x_input: mnist.test.images, y_label: mnist.test.labels,p_keep_input: keep_input, p_keep_hidden: keep_hidden})\n",
    "        if test_acc >= 0.95:\n",
    "            print('test accuracy: ',test_acc)\n",
    "            print('test iteration: ',i)\n",
    "            break\n",
    "#             print('cost ', sess.run(cost, feed_dict={x_input: input_images, y_label: correct_predictions,p_keep_input: keep_input, p_keep_hidden: keep_hidden}))\n",
    "        sess.run(train_step, feed_dict={x_input: input_images, y_label: correct_predictions,p_keep_input: keep_input, p_keep_hidden: keep_hidden})\n",
    "\n",
    "\n"
   ]
  },
  {
   "cell_type": "code",
   "execution_count": null,
   "metadata": {},
   "outputs": [],
   "source": []
  }
 ],
 "metadata": {
  "kernelspec": {
   "display_name": "Python 3",
   "language": "python",
   "name": "python3"
  },
  "language_info": {
   "codemirror_mode": {
    "name": "ipython",
    "version": 3
   },
   "file_extension": ".py",
   "mimetype": "text/x-python",
   "name": "python",
   "nbconvert_exporter": "python",
   "pygments_lexer": "ipython3",
   "version": "3.6.5"
  }
 },
 "nbformat": 4,
 "nbformat_minor": 2
}
